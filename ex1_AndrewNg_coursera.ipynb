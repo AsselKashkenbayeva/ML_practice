{
 "cells": [
  {
   "cell_type": "code",
   "execution_count": 274,
   "metadata": {},
   "outputs": [
    {
     "name": "stdout",
     "output_type": "stream",
     "text": [
      "(97, 2)\n"
     ]
    }
   ],
   "source": [
    "#importing and setting up the data to be used for linear regression \n",
    "import numpy as np\n",
    "import pandas as pd\n",
    "abs_path = '/Users/assel2/Documents/ML_coursera/machine-learning-ex1/ex1/ex1data1.txt'\n",
    "ex1_data = np.loadtxt(abs_path, delimiter = ',')\n",
    "#ex1_array = np.array(ex1_data)\n",
    "ex1_array = ex1_data\n",
    "X_for_plot = ex1_array[:,0] #currently this is a vector\n",
    "y = ex1_array[:,1]\n",
    "#turn the X and y into matrix to allow for further processing \n",
    "X_for_plot = X_for_plot.reshape(-1,1)\n",
    "y = y.reshape(-1,1)\n",
    "print(X.shape)"
   ]
  },
  {
   "cell_type": "code",
   "execution_count": 275,
   "metadata": {},
   "outputs": [
    {
     "data": {
      "text/plain": [
       "Text(0,0.5,'Profit in $10,000s')"
      ]
     },
     "execution_count": 275,
     "metadata": {},
     "output_type": "execute_result"
    },
    {
     "data": {
      "image/png": "[encoded data removed]",
      "text/plain": [
       "<Figure size 432x288 with 1 Axes>"
      ]
     },
     "metadata": {
      "needs_background": "light"
     },
     "output_type": "display_data"
    }
   ],
   "source": [
    "#plotting the imported data\n",
    "import matplotlib.pyplot as plt\n",
    "plt.scatter(X_for_plot,y,marker = 'x', color = 'red')\n",
    "plt.xlabel('Population in city in 10,000s')\n",
    "plt.ylabel('Profit in $10,000s')\n",
    "#plt.show()"
   ]
  },
  {
   "cell_type": "code",
   "execution_count": 276,
   "metadata": {},
   "outputs": [
    {
     "name": "stdout",
     "output_type": "stream",
     "text": [
      "(97, 1)\n",
      "97\n",
      "(2, 1)\n"
     ]
    }
   ],
   "source": [
    "del X_1\n",
    "X = ex1_array[:,0] #currently this is a vector\n",
    "X = X.reshape(-1,1)\n",
    "X_1 = np.ones(X.shape[0])\n",
    "X_1 = X_1.reshape(-1,1)\n",
    "print(X_1.shape)\n",
    "X = np.append(X_1,X,axis=1)\n",
    "m = X.shape[0]\n",
    "print(m)\n",
    "#print(y.shape)\n",
    "theta = [0,0]\n",
    "theta= np.asarray(theta)\n",
    "theta= theta.reshape(-1,1)\n",
    "print(theta.shape)\n",
    "#print(X)"
   ]
  },
  {
   "cell_type": "code",
   "execution_count": 277,
   "metadata": {},
   "outputs": [
    {
     "name": "stdout",
     "output_type": "stream",
     "text": [
      "32.072733877455676\n"
     ]
    }
   ],
   "source": [
    "def computeCostFunc(X,y,theta):\n",
    "    hx = np.dot(X,theta)\n",
    "    hx = hx - y\n",
    "    hx = hx * hx\n",
    "    hx = np.sum(hx)\n",
    "    J = 1/(2*m)*hx;\n",
    "    return J\n",
    "J= computeCostFunc(X,y,theta)\n",
    "print(J)\n",
    "#print(X)"
   ]
  },
  {
   "cell_type": "code",
   "execution_count": 278,
   "metadata": {},
   "outputs": [
    {
     "name": "stdout",
     "output_type": "stream",
     "text": [
      "[[-3.63029144]\n",
      " [ 1.16636235]]\n"
     ]
    }
   ],
   "source": [
    "# gradientDescent \n",
    "iter_num = 1500\n",
    "theta = [0,0]\n",
    "theta= np.asarray(theta)\n",
    "theta= theta.reshape(-1,1)\n",
    "alpha = 0.01\n",
    "J_history = []\n",
    "for x in range (0,iter_num):\n",
    "    \n",
    "    hx = np.dot(X,theta)\n",
    "    hx = np.subtract(hx,y)\n",
    "    X_T = np.transpose(X)\n",
    "    errors= np.dot(X_T, hx)\n",
    "    constant = 1/m\n",
    "    constant = alpha*constant;\n",
    "    theta_change= np.dot(errors,constant);\n",
    "    theta= np.subtract(theta,theta_change)\n",
    "\n",
    "    J = computeCostFunc(X,y,theta);\n",
    "\n",
    "    J_history= np.append(J_history,J)\n",
    "\n",
    "print(theta)"
   ]
  },
  {
   "cell_type": "code",
   "execution_count": 281,
   "metadata": {},
   "outputs": [
    {
     "data": {
      "text/plain": [
       "<matplotlib.collections.PathCollection at 0x11b1036d8>"
      ]
     },
     "execution_count": 281,
     "metadata": {},
     "output_type": "execute_result"
    },
    {
     "data": {
      "image/png": "[encoded data removed]",
      "text/plain": [
       "<Figure size 432x288 with 1 Axes>"
      ]
     },
     "metadata": {
      "needs_background": "light"
     },
     "output_type": "display_data"
    }
   ],
   "source": [
    "plot_line = np.dot(X,theta)\n",
    "plt.plot(X[:,1],plot_line)\n",
    "plt.scatter(X_for_plot,y, marker = 'x', color = 'red')"
   ]
  },
  {
   "cell_type": "code",
   "execution_count": 294,
   "metadata": {},
   "outputs": [
    {
     "name": "stdout",
     "output_type": "stream",
     "text": [
      "For population = 35,000, we predict a profit of[4519.7678677]\n",
      "For population = 70,000, we predict a profit of[45342.45012945]\n"
     ]
    }
   ],
   "source": [
    "predict = [1,3.5]\n",
    "predict_1 = np.dot(predict,theta)\n",
    "predict_1 = predict_1 *10000\n",
    "print(\"For population = 35,000, we predict a profit of\"+ str(predict_1))\n",
    "predict = [1,7]\n",
    "predict_1 = np.dot(predict,theta)\n",
    "predict_1 = predict_1 *10000\n",
    "print(\"For population = 70,000, we predict a profit of\"+ str(predict_1))"
   ]
  },
  {
   "cell_type": "code",
   "execution_count": 346,
   "metadata": {},
   "outputs": [
    {
     "name": "stdout",
     "output_type": "stream",
     "text": [
      "(47, 2)\n"
     ]
    }
   ],
   "source": [
    "abs_path_multi = '/Users/assel2/Documents/ML_coursera/machine-learning-ex1/ex1/ex1data2.txt'\n",
    "ex1_data_multi = np.loadtxt(abs_path_multi, delimiter = ',')\n",
    "ex1_array_multi = ex1_data_multi\n",
    "#print(ex1_array_multi[:,2:3])\n",
    "X_for_plot_multi = ex1_array_multi[:,0:2] #currently this is a vector\n",
    "y = ex1_array[:,2:3]\n",
    "#turn the X and y into matrix to allow for further processing \n",
    "X_for_plot_multi = X_for_plot_multi.reshape(-1,2)\n",
    "y = y.reshape(-1,1)\n",
    "print(X_for_plot_multi.shape)"
   ]
  },
  {
   "cell_type": "code",
   "execution_count": 379,
   "metadata": {},
   "outputs": [
    {
     "name": "stdout",
     "output_type": "stream",
     "text": [
      "(47, 2)\n"
     ]
    }
   ],
   "source": [
    "# normalisation of the data\n",
    "X_multi = X_for_plot_multi\n",
    "print(X_multi.shape)\n",
    "X_mean = np.mean(X_multi, axis = 0)\n",
    "X_std = np.std(X_multi, axis = 0)\n",
    "X_norm = np.subtract(X_multi, X_mean)\n",
    "X_norm = np.divide(X_norm,X_std)\n",
    "m = X_multi.shape[0]\n",
    "X_1 = np.ones(m)\n",
    "X_1 = X_1.reshape(-1,1)\n",
    "#print(X_1.shape)\n",
    "#X_1 = np.transpose(X_1)\n",
    "X = np.append(X_1, X_multi, axis = 1)\n",
    "#print(X)"
   ]
  },
  {
   "cell_type": "code",
   "execution_count": 405,
   "metadata": {},
   "outputs": [
    {
     "name": "stdout",
     "output_type": "stream",
     "text": [
      "127990320183012.5\n",
      "(47, 47)\n"
     ]
    }
   ],
   "source": [
    "# costFunc for multiple inputs\n",
    "theta = [0,0,0]\n",
    "theta = np.asarray(theta)\n",
    "theta = theta.reshape(-1,1)\n",
    "\n",
    "def computeCostMulti (X,y,theta):\n",
    "    \n",
    "    hx1 = np.dot(X,theta)\n",
    "    hx1 = hx1 -y\n",
    "    \n",
    "    hx2 = np.dot(X,theta)\n",
    "    hx2 = hx2 -y\n",
    "  \n",
    "    hx= np.dot(hx1,hx2)\n",
    "    hx = np.sum(hx)\n",
    "\n",
    "    J = 1/(2*m)*hx;\n",
    "print(J)\n",
    "print(hx1.shape)"
   ]
  },
  {
   "cell_type": "code",
   "execution_count": 402,
   "metadata": {},
   "outputs": [
    {
     "ename": "ValueError",
     "evalue": "shapes (47,1) and (47,1) not aligned: 1 (dim 1) != 47 (dim 0)",
     "output_type": "error",
     "traceback": [
      "\u001b[0;31m---------------------------------------------------------------------------\u001b[0m",
      "\u001b[0;31mValueError\u001b[0m                                Traceback (most recent call last)",
      "\u001b[0;32m<ipython-input-402-04a2fc6f9507>\u001b[0m in \u001b[0;36m<module>\u001b[0;34m()\u001b[0m\n\u001b[1;32m     15\u001b[0m     \u001b[0mtheta\u001b[0m\u001b[0;34m=\u001b[0m \u001b[0mtheta\u001b[0m\u001b[0;34m-\u001b[0m\u001b[0mtheta_change\u001b[0m\u001b[0;34m;\u001b[0m\u001b[0;34m\u001b[0m\u001b[0m\n\u001b[1;32m     16\u001b[0m \u001b[0;34m\u001b[0m\u001b[0m\n\u001b[0;32m---> 17\u001b[0;31m     \u001b[0mJ\u001b[0m \u001b[0;34m=\u001b[0m \u001b[0mcomputeCostMulti\u001b[0m\u001b[0;34m(\u001b[0m\u001b[0mX\u001b[0m\u001b[0;34m,\u001b[0m\u001b[0my\u001b[0m\u001b[0;34m,\u001b[0m\u001b[0mtheta\u001b[0m\u001b[0;34m)\u001b[0m\u001b[0;34m\u001b[0m\u001b[0m\n\u001b[0m\u001b[1;32m     18\u001b[0m \u001b[0;34m\u001b[0m\u001b[0m\n\u001b[1;32m     19\u001b[0m     \u001b[0mJ_history\u001b[0m\u001b[0;34m=\u001b[0m \u001b[0;34m[\u001b[0m\u001b[0mJ_history\u001b[0m\u001b[0;34m,\u001b[0m\u001b[0mJ\u001b[0m\u001b[0;34m]\u001b[0m\u001b[0;34m\u001b[0m\u001b[0m\n",
      "\u001b[0;32m<ipython-input-400-b31e1ed896cb>\u001b[0m in \u001b[0;36mcomputeCostMulti\u001b[0;34m(X, y, theta)\u001b[0m\n\u001b[1;32m     12\u001b[0m     \u001b[0mhx2\u001b[0m \u001b[0;34m=\u001b[0m \u001b[0mhx2\u001b[0m \u001b[0;34m-\u001b[0m \u001b[0my\u001b[0m\u001b[0;34m\u001b[0m\u001b[0m\n\u001b[1;32m     13\u001b[0m \u001b[0;34m\u001b[0m\u001b[0m\n\u001b[0;32m---> 14\u001b[0;31m     \u001b[0mhx\u001b[0m\u001b[0;34m=\u001b[0m \u001b[0mnp\u001b[0m\u001b[0;34m.\u001b[0m\u001b[0mdot\u001b[0m\u001b[0;34m(\u001b[0m\u001b[0mhx1\u001b[0m\u001b[0;34m,\u001b[0m\u001b[0mhx2\u001b[0m\u001b[0;34m)\u001b[0m\u001b[0;34m\u001b[0m\u001b[0m\n\u001b[0m\u001b[1;32m     15\u001b[0m     \u001b[0mhx\u001b[0m \u001b[0;34m=\u001b[0m \u001b[0mnp\u001b[0m\u001b[0;34m.\u001b[0m\u001b[0msum\u001b[0m\u001b[0;34m(\u001b[0m\u001b[0mhx\u001b[0m\u001b[0;34m)\u001b[0m\u001b[0;34m\u001b[0m\u001b[0m\n\u001b[1;32m     16\u001b[0m \u001b[0;34m\u001b[0m\u001b[0m\n",
      "\u001b[0;31mValueError\u001b[0m: shapes (47,1) and (47,1) not aligned: 1 (dim 1) != 47 (dim 0)"
     ]
    }
   ],
   "source": [
    "#Gradient descent for multi variables \n",
    "\n",
    "iter_num = 1500\n",
    "alpha = 0.02\n",
    "J_history = []\n",
    "for x in range (0,iter_num):\n",
    "    h = np.dot(X,theta)\n",
    "    h = h-y\n",
    "    \n",
    "    errors = np.transpose(X)\n",
    "    errors = np.dot(errors,h)\n",
    "\n",
    "    constant = alpha*(1/m);\n",
    "    theta_change= np.dot(errors,constant);\n",
    "    theta= theta-theta_change;\n",
    "\n",
    "    J = computeCostMulti(X,y,theta)\n",
    "\n",
    "    J_history= [J_history,J]\n",
    "\n",
    "print(J_history)"
   ]
  },
  {
   "cell_type": "code",
   "execution_count": 406,
   "metadata": {},
   "outputs": [
    {
     "name": "stdout",
     "output_type": "stream",
     "text": [
      "hihihihihihihihihihihihihihihihihihihihihihihihihihihihihihihihihihihihihihihihihihihihihihihihihihihihihihihihihihihihihihihihihihihihihihihihihihihihihihihihihihihihihihihihihihihihihihihihihihihihihihihihihihihihihihihihihihihihihihihihihihihihihihihihihihihihihihihihihihihihihihihihihihihihihihihihihihihihihihihihihihihihihihihihihihihihihihihihihihihihihihihihihihihihihihihihihihihihihihihihihihihihihihihihihihihihihihihihihihihihihihihihihihihihihihihihihihihihihihihihihihihihihihihihihihihihihihihihihihihihihihihihihihihihihihihihihihihihihihihihihihihihihihihihihihihihihihihihihihihihihihihihihihihihihihihihihihihihihihihihihihihihihihihihihihihihihihihihihihihihihihihihihihihihihihihihihihihihihihihihihihihihihihihihihihihihihihihihihihihihihihihihihihihihihihihihihihihihihihihihihihihihihihihihihihihihihihihihihihihihihihihihihihihihihihihihihihihihihihihihihihihihihihihihihihihihihihihihihihihihihihihihihihihihihihihihihihihihihihihihihihihihihihihihihihihihihihihihihihihihihihihihihihihihihihihihihihihihihihihihihihihihihihihihihihihihihihihihihihihihihihihihihihihihihihihihihihihihihihihihihihihihihihihihihihihihihihihihihihihihihihihihihihihihihihihihihihihihihihihihihihihihihihihihihihihihihihihihihihihihihihihihihihihihihihihihihihihihihihihihihihihihihihihihihihihihihihihihihihihihihihihihihihihihihihihihihihihihihihihihihihihihihihihihihihihihihihihihihihihihihihihihihihihihihihihihihihihihihihihihihihihihihihihihihihihihihihihihihihihihihihihihihihihihihihihihihihihihihihihihihihihihihihihihihihihihihihihihihihihihihihihihihihihihihihihihihihihihihihihihihihihihihihihihihihihihihihihihihihihihihihihihihihihihihihihihihihihihihihihihihihihihihihihihihihihihihihihihihihihihihihihihihihihihihihihihihihihihihihihihihihihihihihihihihihihihihihihihihihihihihihihihihihihihihihihihihihihihihihihihihihihihihihihihihihihihihihihihihihihihihihihihihihihihihihihihihihihihihihihihihihihihihihihihihihihihihihihihihihihihihihihihihihihihihihihihihihihihihihihihi\n"
     ]
    }
   ],
   "source": [
    "h = \"hi\"\n",
    "h_1 = h*1000\n",
    "print(h_1)"
   ]
  },
  {
   "cell_type": "code",
   "execution_count": null,
   "metadata": {},
   "outputs": [],
   "source": []
  }
 ],
 "metadata": {
  "kernelspec": {
   "display_name": "Python 3",
   "language": "python",
   "name": "python3"
  },
  "language_info": {
   "codemirror_mode": {
    "name": "ipython",
    "version": 3
   },
   "file_extension": ".py",
   "mimetype": "text/x-python",
   "name": "python",
   "nbconvert_exporter": "python",
   "pygments_lexer": "ipython3",
   "version": "3.7.0"
  }
 },
 "nbformat": 4,
 "nbformat_minor": 2
}
