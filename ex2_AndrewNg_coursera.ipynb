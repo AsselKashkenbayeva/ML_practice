{
 "cells": [
  {
   "cell_type": "code",
   "execution_count": 1,
   "metadata": {},
   "outputs": [],
   "source": [
    "#logistic regression \n",
    "import numpy as np\n",
    "abs_path = '/Users/assel2/Documents/ML_coursera/machine-learning-ex2/machine-learning-ex2/ex2/ex2data1.txt'\n",
    "raw_data = np.loadtxt(abs_path,delimiter = ',')\n",
    "\n",
    "X = np.array(raw_data[:,0:2])\n",
    "y = np.array(raw_data[:,2])\n",
    "\n",
    "#print(X[1])"
   ]
  },
  {
   "cell_type": "code",
   "execution_count": 3,
   "metadata": {},
   "outputs": [
    {
     "data": {
      "image/png": "[encoded data removed]",
      "text/plain": [
       "<Figure size 432x288 with 1 Axes>"
      ]
     },
     "metadata": {
      "needs_background": "light"
     },
     "output_type": "display_data"
    }
   ],
   "source": [
    "import matplotlib.pyplot as plt \n",
    "\n",
    "m = y.shape[0]\n",
    "for i in range(m):\n",
    "    a = y[i]\n",
    "    if y[i] == 0.0:\n",
    "        s1= plt.scatter(X[i,0],X[i,1],marker = 'o', color = 'g')\n",
    "    else:\n",
    "        s2= plt.scatter(X[i,0],X[i,1],marker = 'x', color = 'r')\n",
    "plt.xlabel('Exam 1 score')\n",
    "plt.ylabel('Exam 2 score')\n",
    "plt.legend([s1,s2],['admitted','not admitted']) #correct this legend is wrong\n",
    "plt.show()"
   ]
  },
  {
   "cell_type": "code",
   "execution_count": 55,
   "metadata": {},
   "outputs": [
    {
     "data": {
      "text/plain": [
       "(300,)"
      ]
     },
     "execution_count": 55,
     "metadata": {},
     "output_type": "execute_result"
    }
   ],
   "source": [
    "# sigmoid func \n",
    "import math as math\n",
    "def sigmoidFunc(x):\n",
    "    all_sigm = ([])\n",
    "    print(x.shape)\n",
    "    m,n = x.shape\n",
    "    print(x.shape)\n",
    "    for i in range(m):\n",
    "        for j in range(n):\n",
    "            sigm = math.exp(-x[i,j])\n",
    "            #print(sigm)\n",
    "            sigm = 1+ sigm\n",
    "            sigm = 1/ sigm\n",
    "            #print(sigm)\n",
    "            all_sigm = np.append(all_sigm,sigm)\n",
    "            #print('this is the type ',type(all_sigm),'')\n",
    "    return all_sigm\n",
    "a.shape"
   ]
  },
  {
   "cell_type": "code",
   "execution_count": 5,
   "metadata": {},
   "outputs": [
    {
     "name": "stdout",
     "output_type": "stream",
     "text": [
      "(3, 1)\n",
      "(100, 3)\n",
      "2 100\n"
     ]
    }
   ],
   "source": [
    "#add a column of ones to X for the theta0 \n",
    "X_ones = np.ones((m,1))\n",
    "X.reshape(-1,2)\n",
    "\n",
    "X = np.concatenate((X_ones,X),1)\n",
    "#X\n",
    "initial_theta = np.zeros([X.shape[1],1])\n",
    "print(initial_theta.shape)\n",
    "print(X.shape)\n",
    "print(n,m)"
   ]
  },
  {
   "cell_type": "code",
   "execution_count": 100,
   "metadata": {},
   "outputs": [],
   "source": [
    "def costFuncLogReg(theta,X,y):\n",
    "    const = 1/m\n",
    "    #print(X.shape)\n",
    "    #print(theta.shape)\n",
    "    hx = np.dot(X,theta)\n",
    "    #hx = np.atleast_2d(hx)\n",
    "    hx = hx.reshape(-1,1)\n",
    "    #print(type(hx))\n",
    "    #print(hx.shape)\n",
    "    hx = sigmoidFunc(hx)\n",
    "    #print(type(hx))\n",
    "    #print(hx.type)\n",
    "    #a = np.asarray(hx)\n",
    "    \n",
    "    #print(a)\n",
    "    #print(hx)\n",
    "    hx1 = 1-hx\n",
    "    #print(hx1)\n",
    "   \n",
    "    hx1 = np.log(hx1)\n",
    "    #hx1 = hx1.reshape(-1,1)\n",
    "    hx2 = 1-y\n",
    "    #hx2 = hx2.reshape(-1,1)\n",
    "    hx3 = np.log(hx)\n",
    "    hx3 = np.dot(-y,hx3)\n",
    "    #hx1 = np.squeeze(np.asarray(hx1))\n",
    "    #print(hx1)\n",
    "    #print(hx2)\n",
    "    hx4 = np.dot(hx1,hx2)\n",
    "    \n",
    "    H = hx3 - hx4\n",
    "    H = np.sum(H)\n",
    "    #print(H)\n",
    "    \n",
    "    cost_result = const * H\n",
    "    return cost_result\n",
    "\n",
    "def gradient(theta,X,y):\n",
    "    const = 1/m\n",
    "    #print(X.shape)\n",
    "    #print(theta.shape)\n",
    "    hx = np.dot(X,theta)\n",
    "    #hx = np.atleast_2d(hx)\n",
    "    hx = hx.reshape(-1,1)\n",
    "    print(type(hx))\n",
    "    print(hx.shape)\n",
    "    hx = sigmoidFunc(hx)\n",
    "    grad1 = hx - y\n",
    "    #print(grad1)\n",
    "    grad1 = grad1.reshape(-1,1)\n",
    "    grad1 = grad1 * X\n",
    "    #print(grad1)\n",
    "    grad1_sum = np.sum(grad1,0)\n",
    "    #print(grad1_sum)\n",
    "    gradient = const * grad1_sum\n",
    "    return gradient\n"
   ]
  },
  {
   "cell_type": "code",
   "execution_count": 94,
   "metadata": {},
   "outputs": [
    {
     "name": "stdout",
     "output_type": "stream",
     "text": [
      "(100, 3)\n",
      "(3, 1)\n",
      "<class 'numpy.ndarray'>\n",
      "(100, 1)\n",
      "(100, 1)\n",
      "(100, 1)\n",
      "<class 'numpy.ndarray'>\n",
      "[0.5 0.5 0.5 0.5 0.5 0.5 0.5 0.5 0.5 0.5 0.5 0.5 0.5 0.5 0.5 0.5 0.5 0.5\n",
      " 0.5 0.5 0.5 0.5 0.5 0.5 0.5 0.5 0.5 0.5 0.5 0.5 0.5 0.5 0.5 0.5 0.5 0.5\n",
      " 0.5 0.5 0.5 0.5 0.5 0.5 0.5 0.5 0.5 0.5 0.5 0.5 0.5 0.5 0.5 0.5 0.5 0.5\n",
      " 0.5 0.5 0.5 0.5 0.5 0.5 0.5 0.5 0.5 0.5 0.5 0.5 0.5 0.5 0.5 0.5 0.5 0.5\n",
      " 0.5 0.5 0.5 0.5 0.5 0.5 0.5 0.5 0.5 0.5 0.5 0.5 0.5 0.5 0.5 0.5 0.5 0.5\n",
      " 0.5 0.5 0.5 0.5 0.5 0.5 0.5 0.5 0.5 0.5]\n",
      "[0.5 0.5 0.5 0.5 0.5 0.5 0.5 0.5 0.5 0.5 0.5 0.5 0.5 0.5 0.5 0.5 0.5 0.5\n",
      " 0.5 0.5 0.5 0.5 0.5 0.5 0.5 0.5 0.5 0.5 0.5 0.5 0.5 0.5 0.5 0.5 0.5 0.5\n",
      " 0.5 0.5 0.5 0.5 0.5 0.5 0.5 0.5 0.5 0.5 0.5 0.5 0.5 0.5 0.5 0.5 0.5 0.5\n",
      " 0.5 0.5 0.5 0.5 0.5 0.5 0.5 0.5 0.5 0.5 0.5 0.5 0.5 0.5 0.5 0.5 0.5 0.5\n",
      " 0.5 0.5 0.5 0.5 0.5 0.5 0.5 0.5 0.5 0.5 0.5 0.5 0.5 0.5 0.5 0.5 0.5 0.5\n",
      " 0.5 0.5 0.5 0.5 0.5 0.5 0.5 0.5 0.5 0.5]\n",
      "[1. 1. 1. 0. 0. 1. 0. 0. 0. 0. 1. 1. 0. 0. 1. 0. 0. 1. 0. 0. 1. 0. 1. 1.\n",
      " 0. 0. 0. 1. 1. 1. 0. 0. 1. 0. 1. 1. 1. 0. 1. 1. 0. 1. 0. 1. 1. 1. 0. 0.\n",
      " 0. 0. 0. 0. 0. 1. 1. 1. 0. 1. 0. 0. 0. 1. 1. 1. 1. 1. 0. 1. 0. 0. 1. 0.\n",
      " 0. 0. 0. 0. 0. 0. 1. 1. 0. 0. 0. 0. 0. 0. 1. 0. 0. 1. 0. 0. 1. 0. 0. 0.\n",
      " 0. 0. 0. 0.]\n",
      "4186.60897058207\n"
     ]
    },
    {
     "ename": "TypeError",
     "evalue": "cannot unpack non-iterable numpy.float64 object",
     "output_type": "error",
     "traceback": [
      "\u001b[0;31m---------------------------------------------------------------------------\u001b[0m",
      "\u001b[0;31mTypeError\u001b[0m                                 Traceback (most recent call last)",
      "\u001b[0;32m<ipython-input-94-343a8efadebe>\u001b[0m in \u001b[0;36m<module>\u001b[0;34m\u001b[0m\n\u001b[0;32m----> 1\u001b[0;31m \u001b[0mcost\u001b[0m\u001b[0;34m,\u001b[0m \u001b[0mgradient\u001b[0m \u001b[0;34m=\u001b[0m\u001b[0mcostFuncLogReg\u001b[0m\u001b[0;34m(\u001b[0m\u001b[0minitial_theta\u001b[0m\u001b[0;34m,\u001b[0m\u001b[0mX\u001b[0m\u001b[0;34m,\u001b[0m\u001b[0my\u001b[0m\u001b[0;34m)\u001b[0m\u001b[0;34m\u001b[0m\u001b[0;34m\u001b[0m\u001b[0m\n\u001b[0m\u001b[1;32m      2\u001b[0m \u001b[0mprint\u001b[0m\u001b[0;34m(\u001b[0m\u001b[0mcost\u001b[0m\u001b[0;34m,\u001b[0m \u001b[0mgradient\u001b[0m\u001b[0;34m)\u001b[0m\u001b[0;34m\u001b[0m\u001b[0;34m\u001b[0m\u001b[0m\n",
      "\u001b[0;31mTypeError\u001b[0m: cannot unpack non-iterable numpy.float64 object"
     ]
    }
   ],
   "source": [
    "cost, gradient =costFuncLogReg(initial_theta,X,y)\n",
    "print(cost, gradient)"
   ]
  },
  {
   "cell_type": "code",
   "execution_count": 97,
   "metadata": {},
   "outputs": [
    {
     "name": "stdout",
     "output_type": "stream",
     "text": [
      "(100, 1)\n",
      "(100, 1)\n"
     ]
    },
    {
     "ename": "TypeError",
     "evalue": "cannot unpack non-iterable numpy.float64 object",
     "output_type": "error",
     "traceback": [
      "\u001b[0;31m---------------------------------------------------------------------------\u001b[0m",
      "\u001b[0;31mTypeError\u001b[0m                                 Traceback (most recent call last)",
      "\u001b[0;32m<ipython-input-97-79cb3f31a0b0>\u001b[0m in \u001b[0;36m<module>\u001b[0;34m\u001b[0m\n\u001b[1;32m      4\u001b[0m \u001b[0mtest_theta\u001b[0m \u001b[0;34m=\u001b[0m \u001b[0mtest_theta\u001b[0m\u001b[0;34m.\u001b[0m\u001b[0mreshape\u001b[0m\u001b[0;34m(\u001b[0m\u001b[0;34m-\u001b[0m\u001b[0;36m1\u001b[0m\u001b[0;34m,\u001b[0m\u001b[0mX\u001b[0m\u001b[0;34m.\u001b[0m\u001b[0mshape\u001b[0m\u001b[0;34m[\u001b[0m\u001b[0;36m1\u001b[0m\u001b[0;34m]\u001b[0m\u001b[0;34m)\u001b[0m\u001b[0;34m\u001b[0m\u001b[0;34m\u001b[0m\u001b[0m\n\u001b[1;32m      5\u001b[0m \u001b[0mtest_theta\u001b[0m \u001b[0;34m=\u001b[0m \u001b[0mnp\u001b[0m\u001b[0;34m.\u001b[0m\u001b[0mtranspose\u001b[0m\u001b[0;34m(\u001b[0m\u001b[0mtest_theta\u001b[0m\u001b[0;34m)\u001b[0m\u001b[0;34m\u001b[0m\u001b[0;34m\u001b[0m\u001b[0m\n\u001b[0;32m----> 6\u001b[0;31m \u001b[0mcost\u001b[0m\u001b[0;34m,\u001b[0m \u001b[0mgradient\u001b[0m \u001b[0;34m=\u001b[0m\u001b[0mcostFuncLogReg\u001b[0m\u001b[0;34m(\u001b[0m\u001b[0mtest_theta\u001b[0m\u001b[0;34m,\u001b[0m\u001b[0mX\u001b[0m\u001b[0;34m,\u001b[0m\u001b[0my\u001b[0m\u001b[0;34m)\u001b[0m\u001b[0;34m\u001b[0m\u001b[0;34m\u001b[0m\u001b[0m\n\u001b[0m\u001b[1;32m      7\u001b[0m \u001b[0mprint\u001b[0m\u001b[0;34m(\u001b[0m\u001b[0;34m'For the test theta '\u001b[0m\u001b[0;34m,\u001b[0m\u001b[0mtest_theta\u001b[0m\u001b[0;34m,\u001b[0m\u001b[0;34m', the cost was calculated as '\u001b[0m\u001b[0;34m,\u001b[0m\u001b[0mcost\u001b[0m\u001b[0;34m,\u001b[0m\u001b[0;34m' and the gradient as '\u001b[0m\u001b[0;34m,\u001b[0m\u001b[0mgradient\u001b[0m\u001b[0;34m,\u001b[0m\u001b[0;34m''\u001b[0m\u001b[0;34m)\u001b[0m\u001b[0;34m\u001b[0m\u001b[0;34m\u001b[0m\u001b[0m\n",
      "\u001b[0;31mTypeError\u001b[0m: cannot unpack non-iterable numpy.float64 object"
     ]
    }
   ],
   "source": [
    "#testing the cost function\n",
    "\n",
    "test_theta = np.array([[-24],[0.2],[0.2]])\n",
    "test_theta = test_theta.reshape(-1,X.shape[1])\n",
    "test_theta = np.transpose(test_theta)\n",
    "cost, gradient =costFuncLogReg(test_theta,X,y)\n",
    "print('For the test theta ',test_theta,', the cost was calculated as ',cost,' and the gradient as ',gradient,'')"
   ]
  },
  {
   "cell_type": "code",
   "execution_count": 101,
   "metadata": {},
   "outputs": [
    {
     "name": "stdout",
     "output_type": "stream",
     "text": [
      "<class 'numpy.ndarray'>\n",
      "(100, 1)\n",
      "(100, 1)\n",
      "(100, 1)\n",
      "(100, 1)\n",
      "(100, 1)\n",
      "(100, 1)\n",
      "(100, 1)\n",
      "<class 'numpy.ndarray'>\n",
      "(100, 1)\n",
      "(100, 1)\n",
      "(100, 1)\n",
      "(100, 1)\n",
      "(100, 1)\n",
      "<class 'numpy.ndarray'>\n",
      "(100, 1)\n",
      "(100, 1)\n",
      "(100, 1)\n",
      "(100, 1)\n",
      "(100, 1)\n",
      "<class 'numpy.ndarray'>\n",
      "(100, 1)\n",
      "(100, 1)\n",
      "(100, 1)\n",
      "(100, 1)\n",
      "(100, 1)\n",
      "<class 'numpy.ndarray'>\n",
      "(100, 1)\n",
      "(100, 1)\n",
      "(100, 1)\n",
      "(100, 1)\n",
      "(100, 1)\n",
      "<class 'numpy.ndarray'>\n",
      "(100, 1)\n",
      "(100, 1)\n",
      "(100, 1)\n",
      "(100, 1)\n",
      "(100, 1)\n",
      "<class 'numpy.ndarray'>\n",
      "(100, 1)\n",
      "(100, 1)\n",
      "(100, 1)\n",
      "(100, 1)\n",
      "(100, 1)\n",
      "<class 'numpy.ndarray'>\n",
      "(100, 1)\n",
      "(100, 1)\n",
      "(100, 1)\n",
      "(100, 1)\n",
      "(100, 1)\n",
      "<class 'numpy.ndarray'>\n",
      "(100, 1)\n",
      "(100, 1)\n",
      "(100, 1)\n",
      "(100, 1)\n",
      "(100, 1)\n",
      "<class 'numpy.ndarray'>\n",
      "(100, 1)\n",
      "(100, 1)\n",
      "(100, 1)\n",
      "(100, 1)\n",
      "(100, 1)\n",
      "<class 'numpy.ndarray'>\n",
      "(100, 1)\n",
      "(100, 1)\n",
      "(100, 1)\n",
      "(100, 1)\n",
      "(100, 1)\n",
      "<class 'numpy.ndarray'>\n",
      "(100, 1)\n",
      "(100, 1)\n",
      "(100, 1)\n",
      "(100, 1)\n",
      "(100, 1)\n",
      "<class 'numpy.ndarray'>\n",
      "(100, 1)\n",
      "(100, 1)\n",
      "(100, 1)\n",
      "(100, 1)\n",
      "(100, 1)\n",
      "<class 'numpy.ndarray'>\n",
      "(100, 1)\n",
      "(100, 1)\n",
      "(100, 1)\n",
      "(100, 1)\n",
      "(100, 1)\n",
      "<class 'numpy.ndarray'>\n",
      "(100, 1)\n",
      "(100, 1)\n",
      "(100, 1)\n",
      "(100, 1)\n",
      "(100, 1)\n",
      "<class 'numpy.ndarray'>\n",
      "(100, 1)\n",
      "(100, 1)\n",
      "(100, 1)\n",
      "(100, 1)\n",
      "(100, 1)\n",
      "<class 'numpy.ndarray'>\n",
      "(100, 1)\n",
      "(100, 1)\n",
      "(100, 1)\n",
      "(100, 1)\n",
      "(100, 1)\n",
      "<class 'numpy.ndarray'>\n",
      "(100, 1)\n",
      "(100, 1)\n",
      "(100, 1)\n",
      "(100, 1)\n",
      "(100, 1)\n",
      "<class 'numpy.ndarray'>\n",
      "(100, 1)\n",
      "(100, 1)\n",
      "(100, 1)\n",
      "(100, 1)\n",
      "(100, 1)\n",
      "<class 'numpy.ndarray'>\n",
      "(100, 1)\n",
      "(100, 1)\n",
      "(100, 1)\n",
      "(100, 1)\n",
      "(100, 1)\n",
      "<class 'numpy.ndarray'>\n",
      "(100, 1)\n",
      "(100, 1)\n",
      "(100, 1)\n",
      "(100, 1)\n",
      "(100, 1)\n",
      "<class 'numpy.ndarray'>\n",
      "(100, 1)\n",
      "(100, 1)\n",
      "(100, 1)\n",
      "(100, 1)\n",
      "(100, 1)\n",
      "<class 'numpy.ndarray'>\n",
      "(100, 1)\n",
      "(100, 1)\n",
      "(100, 1)\n",
      "(100, 1)\n",
      "(100, 1)\n",
      "<class 'numpy.ndarray'>\n",
      "(100, 1)\n",
      "(100, 1)\n",
      "(100, 1)\n",
      "(100, 1)\n",
      "(100, 1)\n",
      "<class 'numpy.ndarray'>\n",
      "(100, 1)\n",
      "(100, 1)\n",
      "(100, 1)\n",
      "(100, 1)\n",
      "(100, 1)\n",
      "<class 'numpy.ndarray'>\n",
      "(100, 1)\n",
      "(100, 1)\n",
      "(100, 1)\n",
      "(100, 1)\n",
      "(100, 1)\n",
      "<class 'numpy.ndarray'>\n",
      "(100, 1)\n",
      "(100, 1)\n",
      "(100, 1)\n",
      "(100, 1)\n",
      "(100, 1)\n",
      "<class 'numpy.ndarray'>\n",
      "(100, 1)\n",
      "(100, 1)\n",
      "(100, 1)\n",
      "(100, 1)\n",
      "(100, 1)\n",
      "<class 'numpy.ndarray'>\n",
      "(100, 1)\n",
      "(100, 1)\n",
      "(100, 1)\n",
      "(100, 1)\n",
      "(100, 1)\n",
      "<class 'numpy.ndarray'>\n",
      "(100, 1)\n",
      "(100, 1)\n",
      "(100, 1)\n",
      "(100, 1)\n",
      "(100, 1)\n",
      "<class 'numpy.ndarray'>\n",
      "(100, 1)\n",
      "(100, 1)\n",
      "(100, 1)\n",
      "Optimization terminated successfully.\n",
      "         Current function value: 0.203498\n",
      "         Iterations: 23\n",
      "         Function evaluations: 31\n",
      "         Gradient evaluations: 31\n"
     ]
    },
    {
     "name": "stderr",
     "output_type": "stream",
     "text": [
      "/Users/assel2/opt/anaconda3/lib/python3.7/site-packages/ipykernel_launcher.py:20: RuntimeWarning: divide by zero encountered in log\n"
     ]
    }
   ],
   "source": [
    "from scipy.optimize import fmin_bfgs\n",
    "initial_values = np.zeros((len(X[0]), 1))\n",
    "myargs = (X, y)\n",
    "x_predic = fmin_bfgs(costFuncLogReg,initial_values,gradient, args= myargs )\n",
    "#print(x_predic)"
   ]
  },
  {
   "cell_type": "code",
   "execution_count": 134,
   "metadata": {},
   "outputs": [
    {
     "name": "stdout",
     "output_type": "stream",
     "text": [
      "30.05882244669796\n",
      "99.82785779692128\n",
      "94.82891608160052\n",
      "25.059880731377188\n"
     ]
    },
    {
     "data": {
      "text/plain": [
       "[<matplotlib.lines.Line2D at 0x112690a10>]"
      ]
     },
     "execution_count": 134,
     "metadata": {},
     "output_type": "execute_result"
    },
    {
     "data": {
      "image/png": "[encoded data removed]",
      "text/plain": [
       "<Figure size 432x288 with 1 Axes>"
      ]
     },
     "metadata": {
      "needs_background": "light"
     },
     "output_type": "display_data"
    }
   ],
   "source": [
    "a_min = np.amin(X, axis = 0)\n",
    "a_max = np.amax(X,axis = 0)\n",
    "print(a_min[1])\n",
    "print(a_max[1])\n",
    "\n",
    "point_1 = -1/x_predic[2]*(x_predic[2]*a_min[1]+x_predic[0])\n",
    "point_2 = -1/x_predic[2]*(x_predic[2]*a_max[1]+x_predic[0])\n",
    "\n",
    "print(point_1)\n",
    "print(point_2)\n",
    "\n",
    "points = [point_1, point_2]\n",
    "y_points = [a_min[1], a_max[1]]\n",
    "for i in range(m):\n",
    "    a = y[i]\n",
    "    if y[i] == 0.0:\n",
    "        s1= plt.scatter(X[i,1],X[i,2],marker = 'o', color = 'g')\n",
    "    else:\n",
    "        s2= plt.scatter(X[i,1],X[i,2],marker = 'x', color = 'r')\n",
    "plt.xlabel('Exam 1 score')\n",
    "plt.ylabel('Exam 2 score')\n",
    "plt.legend([s1,s2],['admitted','not admitted'])\n",
    "plt.plot(y_points, points)\n"
   ]
  },
  {
   "cell_type": "code",
   "execution_count": 135,
   "metadata": {},
   "outputs": [],
   "source": [
    "#logistic regression \n",
    "import numpy as np\n",
    "abs_path = '/Users/assel2/Documents/ML_coursera/machine-learning-ex2/machine-learning-ex2/ex2/ex2data2.txt'\n",
    "raw_data = np.loadtxt(abs_path,delimiter = ',')\n",
    "\n",
    "X = np.array(raw_data[:,0:2])\n",
    "y = np.array(raw_data[:,2])\n",
    "\n",
    "#print(X[1])"
   ]
  },
  {
   "cell_type": "code",
   "execution_count": 136,
   "metadata": {},
   "outputs": [
    {
     "data": {
      "image/png": "[encoded data removed]",
      "text/plain": [
       "<Figure size 432x288 with 1 Axes>"
      ]
     },
     "metadata": {
      "needs_background": "light"
     },
     "output_type": "display_data"
    }
   ],
   "source": [
    "m = y.shape[0]\n",
    "for i in range(m):\n",
    "    a = y[i]\n",
    "    if y[i] == 0.0:\n",
    "        s1= plt.scatter(X[i,0],X[i,1],marker = 'o', color = 'g')\n",
    "    else:\n",
    "        s2= plt.scatter(X[i,0],X[i,1],marker = 'x', color = 'r')\n",
    "plt.xlabel('Exam 1 score')\n",
    "plt.ylabel('Exam 2 score')\n",
    "plt.legend([s1,s2],['admitted','not admitted']) #correct this legend is wrong\n",
    "plt.show()"
   ]
  },
  {
   "cell_type": "code",
   "execution_count": 376,
   "metadata": {},
   "outputs": [],
   "source": [
    "def mapFeature(X1,X2):\n",
    "    degree = 8;\n",
    "    out = ([])\n",
    "    a =0\n",
    "    out_hist = np.ones([X.shape[0],1])\n",
    "    for i in range(degree):\n",
    "        for j in range(0,i):\n",
    "            out = np.multiply((X1**(i-j)),(X2**j))\n",
    "            \n",
    "            #print(out.shape)\n",
    "            #out_hist = np.hstack((out_hist,out))\n",
    "            out = out.reshape(-1,1)\n",
    "            #print(i,j)\n",
    "            #print(out_hist.shape)\n",
    "            a = a+1\n",
    "           \n",
    "            out_hist = np.append(out_hist,out)\n",
    "            out_hist = out_hist.reshape(118,-1)\n",
    "            \n",
    "            #print(out_hist.shape)\n",
    "            #print(out_hist)\n",
    "    return out_hist"
   ]
  },
  {
   "cell_type": "code",
   "execution_count": 377,
   "metadata": {},
   "outputs": [
    {
     "name": "stdout",
     "output_type": "stream",
     "text": [
      "(118, 29)\n"
     ]
    },
    {
     "data": {
      "text/plain": [
       "array([[ 1.00000000e+00,  1.00000000e+00,  1.00000000e+00, ...,\n",
       "         1.00000000e+00,  1.00000000e+00,  1.00000000e+00],\n",
       "       [ 1.00000000e+00,  1.00000000e+00,  1.00000000e+00, ...,\n",
       "         1.00000000e+00,  1.00000000e+00,  1.00000000e+00],\n",
       "       [ 1.00000000e+00,  1.00000000e+00,  1.00000000e+00, ...,\n",
       "         1.00000000e+00,  1.00000000e+00,  1.00000000e+00],\n",
       "       ...,\n",
       "       [-4.30415247e-02, -1.28837383e-02, -3.16531439e-03, ...,\n",
       "        -5.70401452e-05,  1.21585305e-01,  5.04510824e-02],\n",
       "       [ 1.68417939e-02,  9.60715892e-02,  9.22732385e-02, ...,\n",
       "        -4.51060636e-04, -7.20293005e-02, -5.03736728e-02],\n",
       "       [-2.29164528e-01, -2.77414896e-01, -6.83387857e-02, ...,\n",
       "        -4.82331978e-01, -6.30869717e-03,  5.20611480e-10]])"
      ]
     },
     "execution_count": 377,
     "metadata": {},
     "output_type": "execute_result"
    }
   ],
   "source": [
    "out = mapFeature(X[:,0],X[:,1])\n",
    "print(out.shape)\n",
    "out"
   ]
  },
  {
   "cell_type": "code",
   "execution_count": 380,
   "metadata": {},
   "outputs": [],
   "source": [
    "def costFuncReg(theta,X,y,lam):\n",
    "    gradi_hist = ([])\n",
    "    constant = 1/m;\n",
    "    hx = np.dot(X,theta)\n",
    "    hx = sigmoidFunc(hx);\n",
    "    hx = np.transpose(hx)\n",
    "    log_hx = np.log(hx)\n",
    "    first = np.multiply(-y,log_hx)\n",
    "    one_matrix = np.ones([X.shape[0],1]);\n",
    "    second = one_matrix - y\n",
    "    third = np.log(1-hx);\n",
    "\n",
    "    pl = np.multiply(second,third)\n",
    "    pl = first - pl;\n",
    "    const_1 = 2*m;\n",
    "    const_1 = lam/const_1;\n",
    "    reg = theta[2:3]**2;\n",
    "    reg = np.sum(reg,axis=0);\n",
    "    reg = const_1 * reg;\n",
    "    pl = pl + reg;\n",
    "    pl = sum(pl);\n",
    "    J = constant * pl;\n",
    "\n",
    "    for i in range(1):\n",
    "        hx_1 = hx - y;\n",
    "        hx_1 = np.multiply(hx_1,X[:,i]);\n",
    "\n",
    "        hx_1 = sum(hx_1);\n",
    "        gradi = constant * hx_1\n",
    "\n",
    "    [u,v] = theta.shape\n",
    "    for i in range(2,u):\n",
    "        hx_1 = hx - y;\n",
    "        hx_1 = np.multiply(hx_1,X[:,i])\n",
    "\n",
    "        hx_1 = sum(hx_1);\n",
    "        reg_1 = lam/m;\n",
    "        reg_1 = reg_1 * theta[i]\n",
    "        gradi = (constant * hx_1)+ reg_1;\n",
    "        gradi_hist = np.append(gradi_hist,gradi)\n",
    "       \n",
    "    return gradi_hist, J"
   ]
  },
  {
   "cell_type": "code",
   "execution_count": 381,
   "metadata": {},
   "outputs": [
    {
     "name": "stdout",
     "output_type": "stream",
     "text": [
      "(118, 1)\n",
      "(118, 1)\n",
      "[-0.02385655 -0.02185321 -0.0164356  -0.01542485 -0.01715385 -0.01985683\n",
      " -0.02040691 -0.02313443 -0.02090304 -0.02591581 -0.02808309 -0.02983252\n",
      " -0.03475984 -0.03776512 -0.03781514 -0.02965603 -0.0351496  -0.0273875\n",
      " -0.0265264  -0.02841454 -0.02452881 -0.0239543  -0.0156213  -0.01660368\n",
      " -0.01728158 -0.01464161 -0.01989776] [0.69314718 0.69314718 0.69314718 0.69314718 0.69314718 0.69314718\n",
      " 0.69314718 0.69314718 0.69314718 0.69314718 0.69314718 0.69314718\n",
      " 0.69314718 0.69314718 0.69314718 0.69314718 0.69314718 0.69314718\n",
      " 0.69314718 0.69314718 0.69314718 0.69314718 0.69314718 0.69314718\n",
      " 0.69314718 0.69314718 0.69314718 0.69314718 0.69314718 0.69314718\n",
      " 0.69314718 0.69314718 0.69314718 0.69314718 0.69314718 0.69314718\n",
      " 0.69314718 0.69314718 0.69314718 0.69314718 0.69314718 0.69314718\n",
      " 0.69314718 0.69314718 0.69314718 0.69314718 0.69314718 0.69314718\n",
      " 0.69314718 0.69314718 0.69314718 0.69314718 0.69314718 0.69314718\n",
      " 0.69314718 0.69314718 0.69314718 0.69314718 0.69314718 0.69314718\n",
      " 0.69314718 0.69314718 0.69314718 0.69314718 0.69314718 0.69314718\n",
      " 0.69314718 0.69314718 0.69314718 0.69314718 0.69314718 0.69314718\n",
      " 0.69314718 0.69314718 0.69314718 0.69314718 0.69314718 0.69314718\n",
      " 0.69314718 0.69314718 0.69314718 0.69314718 0.69314718 0.69314718\n",
      " 0.69314718 0.69314718 0.69314718 0.69314718 0.69314718 0.69314718\n",
      " 0.69314718 0.69314718 0.69314718 0.69314718 0.69314718 0.69314718\n",
      " 0.69314718 0.69314718 0.69314718 0.69314718 0.69314718 0.69314718\n",
      " 0.69314718 0.69314718 0.69314718 0.69314718 0.69314718 0.69314718\n",
      " 0.69314718 0.69314718 0.69314718 0.69314718 0.69314718 0.69314718\n",
      " 0.69314718 0.69314718 0.69314718 0.69314718]\n"
     ]
    }
   ],
   "source": [
    "initial_theta = np.zeros([out.shape[1],1])\n",
    "cost, gradientt = costFuncReg(initial_theta,out,y,1)\n",
    "print(cost,gradientt)"
   ]
  },
  {
   "cell_type": "code",
   "execution_count": null,
   "metadata": {},
   "outputs": [],
   "source": []
  }
 ],
 "metadata": {
  "kernelspec": {
   "display_name": "Python 3",
   "language": "python",
   "name": "python3"
  },
  "language_info": {
   "codemirror_mode": {
    "name": "ipython",
    "version": 3
   },
   "file_extension": ".py",
   "mimetype": "text/x-python",
   "name": "python",
   "nbconvert_exporter": "python",
   "pygments_lexer": "ipython3",
   "version": "3.7.4"
  }
 },
 "nbformat": 4,
 "nbformat_minor": 2
}
